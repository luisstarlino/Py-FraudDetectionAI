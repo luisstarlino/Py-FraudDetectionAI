{
 "cells": [
  {
   "cell_type": "code",
   "execution_count": 1,
   "id": "484205b0-5290-4b0d-936e-c1daa178a5e4",
   "metadata": {},
   "outputs": [],
   "source": [
    "# ---------------------------------------------------------------------------------------\n",
    "# Author: Luis Starlino\n",
    "# DateTime: 09/08/2025 - 08:40 AM \n",
    "# Description: Practical example of our model being used to predict fraudulent transactions\n",
    "# ---------------------------------------------------------------------------------------"
   ]
  },
  {
   "cell_type": "code",
   "execution_count": 20,
   "id": "affcdc64-77c8-4bc5-8ced-5d9a004d3ac4",
   "metadata": {
    "collapsed": true,
    "jupyter": {
     "outputs_hidden": true
    }
   },
   "outputs": [
    {
     "name": "stdout",
     "output_type": "stream",
     "text": [
      "C:\\Users\\Luis\\anaconda_projects\\analytics-transaction\n",
      "['.git', '.gitignore', '.ipynb_checkpoints', '01_dummy_data_generator.ipynb', '02_preprocessing_data.ipynb', '03_training_dataset.ipynb', '04_model_using_example.ipynb', 'ai-model.keras', 'transacoes_fraude.csv', 'transacoes_fraude_preprocessado.csv']\n"
     ]
    }
   ],
   "source": [
    "# --- Imports\n",
    "import pandas as pd\n",
    "import numpy as np\n",
    "from tensorflow.keras.models import load_model\n",
    "from sklearn.metrics import accuracy_score\n",
    "\n",
    "\n",
    "import os\n",
    "print(os.getcwd())\n",
    "print(os.listdir())\n"
   ]
  },
  {
   "cell_type": "code",
   "execution_count": 12,
   "id": "bef219f3-3916-4b6a-915d-16953b86d031",
   "metadata": {
    "collapsed": true,
    "jupyter": {
     "outputs_hidden": true
    },
    "scrolled": true
   },
   "outputs": [
    {
     "data": {
      "text/html": [
       "<div>\n",
       "<style scoped>\n",
       "    .dataframe tbody tr th:only-of-type {\n",
       "        vertical-align: middle;\n",
       "    }\n",
       "\n",
       "    .dataframe tbody tr th {\n",
       "        vertical-align: top;\n",
       "    }\n",
       "\n",
       "    .dataframe thead th {\n",
       "        text-align: right;\n",
       "    }\n",
       "</style>\n",
       "<table border=\"1\" class=\"dataframe\">\n",
       "  <thead>\n",
       "    <tr style=\"text-align: right;\">\n",
       "      <th></th>\n",
       "      <th>Valor da Transação</th>\n",
       "      <th>Classe(transações anteriores)</th>\n",
       "      <th>Recorrência de envios do mesmo valor</th>\n",
       "      <th>Idade do titular do cartão</th>\n",
       "      <th>Classe(cartão temporário)</th>\n",
       "      <th>Limite de crédito</th>\n",
       "      <th>Classe(nome lista devedores)</th>\n",
       "      <th>Número de cartões complementares</th>\n",
       "      <th>Numero transações para outro pais</th>\n",
       "      <th>Número de transações suspeitas anteriormente</th>\n",
       "      <th>...</th>\n",
       "      <th>Dispositivo de acesso novo?</th>\n",
       "      <th>Hora da Transação</th>\n",
       "      <th>Dias desde criação da conta</th>\n",
       "      <th>Dias desde ativação cartão</th>\n",
       "      <th>Segundos desde última transação</th>\n",
       "      <th>Latitude</th>\n",
       "      <th>Longitude</th>\n",
       "      <th>pagamento_atrasado</th>\n",
       "      <th>pagamento_bom</th>\n",
       "      <th>pagamento_inadimplente</th>\n",
       "    </tr>\n",
       "  </thead>\n",
       "  <tbody>\n",
       "    <tr>\n",
       "      <th>0</th>\n",
       "      <td>140.78</td>\n",
       "      <td>0</td>\n",
       "      <td>0</td>\n",
       "      <td>35</td>\n",
       "      <td>0</td>\n",
       "      <td>20000</td>\n",
       "      <td>0</td>\n",
       "      <td>4</td>\n",
       "      <td>0</td>\n",
       "      <td>0</td>\n",
       "      <td>...</td>\n",
       "      <td>0</td>\n",
       "      <td>5</td>\n",
       "      <td>1156</td>\n",
       "      <td>1102</td>\n",
       "      <td>975850.0</td>\n",
       "      <td>25.096824</td>\n",
       "      <td>-170.996128</td>\n",
       "      <td>False</td>\n",
       "      <td>True</td>\n",
       "      <td>False</td>\n",
       "    </tr>\n",
       "    <tr>\n",
       "      <th>1</th>\n",
       "      <td>50.89</td>\n",
       "      <td>1</td>\n",
       "      <td>0</td>\n",
       "      <td>75</td>\n",
       "      <td>1</td>\n",
       "      <td>1000</td>\n",
       "      <td>0</td>\n",
       "      <td>5</td>\n",
       "      <td>5</td>\n",
       "      <td>2</td>\n",
       "      <td>...</td>\n",
       "      <td>0</td>\n",
       "      <td>10</td>\n",
       "      <td>2902</td>\n",
       "      <td>2848</td>\n",
       "      <td>1411779.0</td>\n",
       "      <td>11.024111</td>\n",
       "      <td>77.767061</td>\n",
       "      <td>False</td>\n",
       "      <td>True</td>\n",
       "      <td>False</td>\n",
       "    </tr>\n",
       "    <tr>\n",
       "      <th>2</th>\n",
       "      <td>17.95</td>\n",
       "      <td>1</td>\n",
       "      <td>1</td>\n",
       "      <td>23</td>\n",
       "      <td>1</td>\n",
       "      <td>20000</td>\n",
       "      <td>0</td>\n",
       "      <td>3</td>\n",
       "      <td>8</td>\n",
       "      <td>2</td>\n",
       "      <td>...</td>\n",
       "      <td>0</td>\n",
       "      <td>13</td>\n",
       "      <td>3501</td>\n",
       "      <td>3491</td>\n",
       "      <td>2421590.0</td>\n",
       "      <td>-73.305748</td>\n",
       "      <td>-145.182104</td>\n",
       "      <td>False</td>\n",
       "      <td>False</td>\n",
       "      <td>True</td>\n",
       "    </tr>\n",
       "    <tr>\n",
       "      <th>3</th>\n",
       "      <td>6.24</td>\n",
       "      <td>1</td>\n",
       "      <td>0</td>\n",
       "      <td>47</td>\n",
       "      <td>0</td>\n",
       "      <td>10000</td>\n",
       "      <td>1</td>\n",
       "      <td>3</td>\n",
       "      <td>5</td>\n",
       "      <td>1</td>\n",
       "      <td>...</td>\n",
       "      <td>1</td>\n",
       "      <td>7</td>\n",
       "      <td>963</td>\n",
       "      <td>882</td>\n",
       "      <td>878736.0</td>\n",
       "      <td>36.822931</td>\n",
       "      <td>-163.503222</td>\n",
       "      <td>True</td>\n",
       "      <td>False</td>\n",
       "      <td>False</td>\n",
       "    </tr>\n",
       "    <tr>\n",
       "      <th>4</th>\n",
       "      <td>535.93</td>\n",
       "      <td>0</td>\n",
       "      <td>0</td>\n",
       "      <td>38</td>\n",
       "      <td>1</td>\n",
       "      <td>10000</td>\n",
       "      <td>1</td>\n",
       "      <td>5</td>\n",
       "      <td>8</td>\n",
       "      <td>1</td>\n",
       "      <td>...</td>\n",
       "      <td>0</td>\n",
       "      <td>2</td>\n",
       "      <td>322</td>\n",
       "      <td>234</td>\n",
       "      <td>234620.0</td>\n",
       "      <td>36.327656</td>\n",
       "      <td>66.077160</td>\n",
       "      <td>False</td>\n",
       "      <td>False</td>\n",
       "      <td>True</td>\n",
       "    </tr>\n",
       "  </tbody>\n",
       "</table>\n",
       "<p>5 rows × 22 columns</p>\n",
       "</div>"
      ],
      "text/plain": [
       "   Valor da Transação  Classe(transações anteriores)  \\\n",
       "0              140.78                              0   \n",
       "1               50.89                              1   \n",
       "2               17.95                              1   \n",
       "3                6.24                              1   \n",
       "4              535.93                              0   \n",
       "\n",
       "   Recorrência de envios do mesmo valor  Idade do titular do cartão  \\\n",
       "0                                     0                          35   \n",
       "1                                     0                          75   \n",
       "2                                     1                          23   \n",
       "3                                     0                          47   \n",
       "4                                     0                          38   \n",
       "\n",
       "   Classe(cartão temporário)  Limite de crédito  Classe(nome lista devedores)  \\\n",
       "0                          0              20000                             0   \n",
       "1                          1               1000                             0   \n",
       "2                          1              20000                             0   \n",
       "3                          0              10000                             1   \n",
       "4                          1              10000                             1   \n",
       "\n",
       "   Número de cartões complementares  Numero transações para outro pais  \\\n",
       "0                                 4                                  0   \n",
       "1                                 5                                  5   \n",
       "2                                 3                                  8   \n",
       "3                                 3                                  5   \n",
       "4                                 5                                  8   \n",
       "\n",
       "   Número de transações suspeitas anteriormente  ...  \\\n",
       "0                                             0  ...   \n",
       "1                                             2  ...   \n",
       "2                                             2  ...   \n",
       "3                                             1  ...   \n",
       "4                                             1  ...   \n",
       "\n",
       "   Dispositivo de acesso novo?  Hora da Transação  \\\n",
       "0                            0                  5   \n",
       "1                            0                 10   \n",
       "2                            0                 13   \n",
       "3                            1                  7   \n",
       "4                            0                  2   \n",
       "\n",
       "   Dias desde criação da conta  Dias desde ativação cartão  \\\n",
       "0                         1156                        1102   \n",
       "1                         2902                        2848   \n",
       "2                         3501                        3491   \n",
       "3                          963                         882   \n",
       "4                          322                         234   \n",
       "\n",
       "   Segundos desde última transação   Latitude   Longitude  pagamento_atrasado  \\\n",
       "0                         975850.0  25.096824 -170.996128               False   \n",
       "1                        1411779.0  11.024111   77.767061               False   \n",
       "2                        2421590.0 -73.305748 -145.182104               False   \n",
       "3                         878736.0  36.822931 -163.503222                True   \n",
       "4                         234620.0  36.327656   66.077160               False   \n",
       "\n",
       "   pagamento_bom  pagamento_inadimplente  \n",
       "0           True                   False  \n",
       "1           True                   False  \n",
       "2          False                    True  \n",
       "3          False                   False  \n",
       "4          False                    True  \n",
       "\n",
       "[5 rows x 22 columns]"
      ]
     },
     "execution_count": 12,
     "metadata": {},
     "output_type": "execute_result"
    }
   ],
   "source": [
    "# --- 1. Define new preprocessing dataset and load dataframe\n",
    "raw_data = \"\"\"\n",
    "Valor da Transação,Classe(transações anteriores),Classe (rótulo),Recorrência de envios do mesmo valor,Idade do titular do cartão,Classe(cartão temporário),Limite de crédito,Classe(nome lista devedores),Número de cartões complementares,Numero transações para outro pais,Número de transações suspeitas anteriormente,Valor médio das transações do usuário,Classe(emprego fixo),Dispositivo de acesso novo?,Hora da Transação,Dias desde criação da conta,Dias desde ativação cartão,Segundos desde última transação,Latitude,Longitude,pagamento_atrasado,pagamento_bom,pagamento_inadimplente\n",
    "140.78,0,1,0,35,0,20000,0,4,0,0,364.77,0,0,5,1156,1102,975850.0,25.096824,-170.996128,False,True,False\n",
    "50.89,1,0,0,75,1,1000,0,5,5,2,452.3,0,0,10,2902,2848,1411779.0,11.024111,77.767061,False,True,False\n",
    "17.95,1,0,1,23,1,20000,0,3,8,2,457.92,1,0,13,3501,3491,2421590.0,-73.305748,-145.182104,False,False,True\n",
    "6.24,1,1,0,47,0,10000,1,3,5,1,376.74,1,1,7,963,882,878736.0,36.822931,-163.503222,True,False,False\n",
    "535.93,0,0,0,38,1,10000,1,5,8,1,253.66,1,0,2,322,234,234620.0,36.327656,66.07716,False,False,True\n",
    "108.83,1,0,0,45,1,2000,1,3,7,1,253.43,0,1,1,1673,1591,1034430.0,57.924467,109.816488,True,False,False\n",
    "\"\"\"\n",
    "\n",
    "df_new_data = pd.read_csv(pd.io.common.StringIO(raw_data))\n",
    "\n",
    "# --- Split features (X) and target(y)\n",
    "y_original = df_new_data['Classe (rótulo)']\n",
    "df_new_data = df_new_data.drop('Classe (rótulo)', axis=1)\n",
    "\n",
    "\n",
    "\n",
    "df_new_data.head()"
   ]
  },
  {
   "cell_type": "code",
   "execution_count": 14,
   "id": "6480d4b2-9b4d-4bab-9046-b6f99a076c76",
   "metadata": {},
   "outputs": [
    {
     "name": "stdout",
     "output_type": "stream",
     "text": [
      "✅ Input data successfully prepared.\n",
      "Data format for forescasting: (6, 22)\n",
      "\n"
     ]
    }
   ],
   "source": [
    "# --- 3. Explicitly convert all columns to a numeric type ---\n",
    "for col in ['pagamento_atrasado', 'pagamento_bom', 'pagamento_inadimplente']:\n",
    "    df_new_data[col] = df_new_data[col].astype(int)\n",
    "\n",
    "# --- 4. Generate a numpy array (using in ML)\n",
    "X_new_df_array = df_new_data.to_numpy()\n",
    "\n",
    "\n",
    "print(\"✅ Input data successfully prepared.\")\n",
    "print(f\"Data format for forescasting: {X_new_df_array.shape}\\n\")\n"
   ]
  },
  {
   "cell_type": "code",
   "execution_count": 15,
   "id": "b6f4403c-6337-4cd8-a945-d3f0d9059356",
   "metadata": {
    "collapsed": true,
    "jupyter": {
     "outputs_hidden": true
    },
    "scrolled": true
   },
   "outputs": [
    {
     "name": "stdout",
     "output_type": "stream",
     "text": [
      "✅ Successfully loading .keras ML\n"
     ]
    },
    {
     "name": "stderr",
     "output_type": "stream",
     "text": [
      "C:\\Users\\Luis\\anaconda3\\Lib\\site-packages\\keras\\src\\saving\\saving_lib.py:797: UserWarning: Skipping variable loading for optimizer 'rmsprop', because it has 8 variables whereas the saved optimizer has 14 variables. \n",
      "  saveable.load_own_variables(weights_store.get(inner_path))\n"
     ]
    }
   ],
   "source": [
    "# --- 5. Load ML model\n",
    "try:\n",
    "    model_path = \"C:\\\\Users\\\\Luis\\\\anaconda_projects\\\\analytics-transaction\\\\ai-model.keras\"\n",
    "    final_model = load_model(model_path)\n",
    "\n",
    "    print(\"✅ Successfully loading .keras ML\")\n",
    "except:\n",
    "    print(\"❌ Error: Model not found. Check the path to import.\")\n",
    "    exit()\n",
    "\n"
   ]
  },
  {
   "cell_type": "code",
   "execution_count": 17,
   "id": "c893880f-a7a3-46f5-aaeb-dfaaee1b7810",
   "metadata": {},
   "outputs": [
    {
     "name": "stdout",
     "output_type": "stream",
     "text": [
      "\u001b[1m1/1\u001b[0m \u001b[32m━━━━━━━━━━━━━━━━━━━━\u001b[0m\u001b[37m\u001b[0m \u001b[1m0s\u001b[0m 23ms/step\n"
     ]
    }
   ],
   "source": [
    "# --- 6. Making the prediction\n",
    "probability_forecast = final_model.predict(X_new_df_array)\n",
    "class_forecast = (probability_forecast > 0.5).astype(\"int32\")\n"
   ]
  },
  {
   "cell_type": "code",
   "execution_count": 22,
   "id": "15a34ff2-a10e-4e4a-971e-f65603d83283",
   "metadata": {},
   "outputs": [
    {
     "name": "stdout",
     "output_type": "stream",
     "text": [
      "\n",
      "--- Resultados da Previsão ---\n",
      "Análise 1:\n",
      "  Previsão do modelo: Verdadeira (Probabilidade: 0.0000)\n",
      "  Rótulo Original: Falsa\n",
      "  Status: ❌ Previsão incorreta.\n",
      "Análise 2:\n",
      "  Previsão do modelo: Verdadeira (Probabilidade: 0.0000)\n",
      "  Rótulo Original: Verdadeira\n",
      "  Status: ✅ Previsão correta.\n",
      "Análise 3:\n",
      "  Previsão do modelo: Verdadeira (Probabilidade: 0.0000)\n",
      "  Rótulo Original: Verdadeira\n",
      "  Status: ✅ Previsão correta.\n",
      "Análise 4:\n",
      "  Previsão do modelo: Verdadeira (Probabilidade: 0.0000)\n",
      "  Rótulo Original: Falsa\n",
      "  Status: ❌ Previsão incorreta.\n",
      "Análise 5:\n",
      "  Previsão do modelo: Verdadeira (Probabilidade: 0.0000)\n",
      "  Rótulo Original: Verdadeira\n",
      "  Status: ✅ Previsão correta.\n",
      "Análise 6:\n",
      "  Previsão do modelo: Verdadeira (Probabilidade: 0.0000)\n",
      "  Rótulo Original: Verdadeira\n",
      "  Status: ✅ Previsão correta.\n"
     ]
    }
   ],
   "source": [
    "# --- 7. Show Results\n",
    "print(\"\\n--- Resultados da Previsão ---\")\n",
    "for i in range(len(class_forecast)):\n",
    "    previsao = 'Falsa' if class_forecast[i][0] == 1 else 'Verdadeira'\n",
    "    rotulo_real = 'Falsa' if y_original.iloc[i] == 1 else 'Verdadeira'\n",
    "\n",
    "    print(f\"Análise {i+1}:\")\n",
    "    print(f\"  Previsão do modelo: {previsao} (Probabilidade: {probability_forecast[i][0]:.4f})\")\n",
    "    print(f\"  Rótulo Original: {rotulo_real}\")\n",
    "\n",
    "    if class_forecast[i][0] == y_original.iloc[i]:\n",
    "        print(\"  Status: ✅ Previsão correta.\")\n",
    "    else:\n",
    "        print(\"  Status: ❌ Previsão incorreta.\")\n"
   ]
  },
  {
   "cell_type": "code",
   "execution_count": 23,
   "id": "b0b301d2-a73c-4274-99f5-79785c0f00ab",
   "metadata": {},
   "outputs": [
    {
     "name": "stdout",
     "output_type": "stream",
     "text": [
      "\n",
      "--- Total Accuracy ---\n",
      "Model accuracy on test data: 0.67\n"
     ]
    }
   ],
   "source": [
    "# --- 8. Accuracy \n",
    "accuracy = accuracy_score(y_original, class_forecast)\n",
    "print(f\"\\n--- Total Accuracy ---\")\n",
    "print(f\"Model accuracy on test data: {accuracy:.2f}\")"
   ]
  }
 ],
 "metadata": {
  "kernelspec": {
   "display_name": "Python [conda env:base] *",
   "language": "python",
   "name": "conda-base-py"
  },
  "language_info": {
   "codemirror_mode": {
    "name": "ipython",
    "version": 3
   },
   "file_extension": ".py",
   "mimetype": "text/x-python",
   "name": "python",
   "nbconvert_exporter": "python",
   "pygments_lexer": "ipython3",
   "version": "3.13.5"
  }
 },
 "nbformat": 4,
 "nbformat_minor": 5
}
